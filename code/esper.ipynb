{
 "cells": [
  {
   "cell_type": "code",
   "execution_count": null,
   "metadata": {},
   "outputs": [],
   "source": [
    "import argparse\n",
    "from pathlib import Path\n",
    "import numpy as np\n",
    "from tqdm import tqdm\n",
    "\n",
    "import cv2\n",
    "from PIL import Image, ImageFilter\n",
    "from matplotlib import pyplot as plt\n",
    "plt.style.use('tableau-colorblind10')\n",
    "from matplotlib.colors import ListedColormap\n",
    "import scienceplots\n",
    "import pandas as pd\n",
    "import json\n",
    "from pprint import pprint\n",
    "import seaborn as sns\n",
    "import torch\n",
    "\n",
    "import torchmetrics\n",
    "from torchmetrics import PrecisionRecallCurve, ROC\n",
    "from torchmetrics.functional.classification import binary_auroc, multiclass_auroc, binary_precision_recall_curve, multiclass_precision_recall_curve, confusion_matrix\n",
    "from torchmetrics.functional.classification import binary_accuracy, multiclass_accuracy, binary_recall, binary_precision, multiclass_recall, multiclass_precision, binary_f1_score, multiclass_f1_score\n",
    "from torchmetrics.utilities.compute import _auc_compute_without_check, _auc_compute\n",
    "\n",
    "from utils.utils import get_roc_curve, get_pr_curve, get_confusion_matrix, get_optimal_operating_point\n",
    "\n",
    "from scipy.stats import bootstrap as scp_bootstrap\n",
    "from sklearn.metrics import roc_auc_score\n",
    "\n",
    "import statistics\n",
    "import logging\n",
    "\n",
    "from cycler import cycler"
   ]
  },
  {
   "cell_type": "code",
   "execution_count": null,
   "metadata": {},
   "outputs": [],
   "source": [
    "import math\n",
    "import numpy as np\n",
    "def get_ESPer(perf_metric, co2eq, co2eq_min, thr=0.7):\n",
    "\n",
    "    # print('performance: ', perf_metric)\n",
    "    # print('CO2 norm: ', ((co2eq - co2eq_min) / (co2eq_max - co2eq_min)))\n",
    "    # return math.pow(perf_metric, 2) / ((co2eq - co2eq_min) / (co2eq_max - co2eq_min)+1)\n",
    "    # print( (math.exp(-(co2eq - co2eq_min ))))\n",
    "    # co2eq *= 1000\n",
    "    # co2eq_min *= 1000\n",
    "    return math.pow(perf_metric, 2)/ (math.exp((co2eq - co2eq_min)))\n",
    "    # return math.pow(perf_metric, 2)/ (math.exp(-(co2eq - co2eq_min)))\n",
    "    # return math.pow(perf_metric, 2)/math.exp()\n",
    "    # return (perf_metric)/ (math.exp((co2eq - co2eq_min)))\n",
    "    # return math.pow(perf_metric, 2)/ (math.exp((co2eq - co2eq_min) / (co2eq_max - co2eq_min)))\n",
    "    # return math.pow(perf_metric, 2)/math.pow(((co2eq-co2eq_min)/co2eq_min)+1, 2)\n",
    "    # return math.pow(perf_metric, 2)/math.pow(co2eq-co2eq_min+1, 2)\n",
    "    # return math.pow(perf_metric, 2) / (co2eq / co2eq_min)\n",
    "    # return math.pow(perf_metric, 2) / math.sqrt()\n",
    "    # return math.pow(perf_metric, 2)/math.exp(co2eq)\n",
    "    # return math.pow(perf_metric, 2)/math.exp(((co2eq - co2eq_min) / (co2eq_max - co2eq_min)))\n",
    "    # return math.pow(perf_metric, 2) * math.pow(co2eq, 2)\n",
    "\n",
    "    # return math.pow(perf_metric, 2)/(np.log(co2eq - co2eq_min + 1)+1)\n",
    "    # return perf_metric / (co2eq  + 1)\n",
    "    \n",
    "    # return math.pow(perf_metric, 2)/math.sqrt(co2eq - co2eq_min + 1)"
   ]
  },
  {
   "cell_type": "code",
   "execution_count": null,
   "metadata": {},
   "outputs": [],
   "source": [
    "data_path = '/homeStor1/ylan/npj_sus_data/bootstrapped_metrics'\n",
    "tasks = ['RCC', 'DeepGraft']\n"
   ]
  },
  {
   "cell_type": "code",
   "execution_count": null,
   "metadata": {},
   "outputs": [],
   "source": []
  }
 ],
 "metadata": {
  "kernelspec": {
   "display_name": "torch",
   "language": "python",
   "name": "python3"
  },
  "language_info": {
   "name": "python",
   "version": "3.9.18"
  }
 },
 "nbformat": 4,
 "nbformat_minor": 2
}
