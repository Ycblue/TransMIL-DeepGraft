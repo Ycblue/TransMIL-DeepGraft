{
 "cells": [
  {
   "cell_type": "code",
   "execution_count": null,
   "metadata": {},
   "outputs": [],
   "source": [
    "import numpy as np\n",
    "from pathlib import Path\n",
    "\n",
    "cohort_root = '/homeStor1/ylan/data/DeepGraft/224_256uM_annotated/DEEPGRAFT_RU/BLOCKS'\n",
    "\n",
    "l = len([Path(cohort_root).iterdir()])\n",
    "for i in Path(cohort_root).iterdir():\n",
    "    \n",
    "print(l/7)\n",
    "\n",
    "\n"
   ]
  },
  {
   "cell_type": "code",
   "execution_count": null,
   "metadata": {},
   "outputs": [],
   "source": [
    "b = np.fromfile(a)"
   ]
  }
 ],
 "metadata": {
  "language_info": {
   "name": "python"
  },
  "orig_nbformat": 4
 },
 "nbformat": 4,
 "nbformat_minor": 2
}
