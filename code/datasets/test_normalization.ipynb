{
 "cells": [
  {
   "cell_type": "code",
   "execution_count": 1,
   "metadata": {},
   "outputs": [],
   "source": [
    "# from simple_jpg_dataloader import JPGBagLoader\n",
    "import torch\n",
    "from torch.utils.data import random_split, DataLoader\n",
    "from pathlib import Path\n",
    "import numpy as np\n",
    "import random\n",
    "from torchvision.transforms import transforms\n",
    "import matplotlib.pyplot as plt\n",
    "from PIL import Image\n",
    "import cv2\n",
    "import json"
   ]
  },
  {
   "cell_type": "code",
   "execution_count": 2,
   "metadata": {},
   "outputs": [],
   "source": [
    "home = Path.cwd().parts[1]\n",
    "label_path = f'/{home}/ylan/DeepGraft/training_tables/dg_split_PAS_HE_Jones_norm_rest.json'\n",
    "data_root = f'/{home}/ylan/data/DeepGraft/224_128uM_annotated'\n",
    "n_classes = 2"
   ]
  },
  {
   "cell_type": "code",
   "execution_count": 3,
   "metadata": {},
   "outputs": [],
   "source": [
    "val_transforms = transforms.Compose([\n",
    "    # \n",
    "    transforms.ToTensor(),\n",
    "    transforms.Normalize(\n",
    "        mean=[0.485, 0.456, 0.406],\n",
    "        std=[0.229, 0.224, 0.225],\n",
    "    ),\n",
    "    # RangeNormalization(),\n",
    "])"
   ]
  },
  {
   "cell_type": "code",
   "execution_count": 4,
   "metadata": {},
   "outputs": [],
   "source": [
    "def visualize(cohort):\n",
    "\n",
    "    cohort_path = Path(data_root) / cohort / 'BLOCKS'\n",
    "    print(cohort_path)\n",
    "    cohort_slides = list(Path(cohort_path).iterdir())\n",
    "    random_idx = random.sample(range(0, len(cohort_slides)), 10)\n",
    "    random_slides = [cohort_slides[i] for i in random_idx]\n",
    "    print(random_slides)\n",
    "\n",
    "    fig = plt.figure(figsize=(100,100))\n",
    "    columns = 10\n",
    "    rows = 10\n",
    "\n",
    "    for i, slide in enumerate(random_slides):\n",
    "        tile_list = list(slide.iterdir())\n",
    "        if len(tile_list) < 10:\n",
    "            # continue\n",
    "            tile_list = list(cohort_slides[random.randint(0,len(cohort_slides))].iterdir())\n",
    "        random_idx = random.sample(range(0, len(tile_list)), 10)\n",
    "        for j, tile_path in enumerate([tile_list[i] for i in random_idx]):\n",
    "            img = np.asarray(Image.open(tile_path)).astype(np.uint8)\n",
    "            img = img.astype(np.uint8)\n",
    "            img = val_transforms(img.copy())\n",
    "            img = ((img-img.min())/(img.max()-img.min()))*255\n",
    "            img = img.numpy().astype(np.uint8).transpose(1,2,0)\n",
    "            img = Image.fromarray(img)\n",
    "            img = img.convert('RGB')\n",
    "            # print((i+1)*rows+j)\n",
    "            fig.add_subplot(rows, columns, (i)*rows+(j+1))\n",
    "            # fig.add_subplot(rows, columns, (i+1)*rows+(j+1))\n",
    "            plt.imshow(img)\n",
    "    plt.show\n"
   ]
  },
  {
   "cell_type": "code",
   "execution_count": 5,
   "metadata": {},
   "outputs": [],
   "source": [
    "def hexencode(rgb):\n",
    "    r=rgb[0]\n",
    "    g=rgb[1]\n",
    "    b=rgb[2]\n",
    "    return '#%02x%02x%02x' % (r,g,b)\n",
    "\n",
    "def normalize(slides):\n",
    "\n",
    "    # cohort_path = Path(data_root) / 'debug' / slide\n",
    "    # # print(cohort_path)\n",
    "    # cohort_slides = list(Path(cohort_path).iterdir())\n",
    "    # random_idx = random.sample(range(0, len(cohort_slides)), 5)\n",
    "    # random_slides = [cohort_slides[i] for i in random/_idx]\n",
    "    # print(random_slides)\n",
    "\n",
    "    fig = plt.figure(figsize=(100,100))\n",
    "    columns = 10\n",
    "    rows = 10\n",
    "\n",
    "    for i, slide in enumerate(slides):\n",
    "        slide_path = Path(data_root) / 'debug' / slide\n",
    "        tile_list = list(slide_path.iterdir())\n",
    "        if len(tile_list) < 10:\n",
    "            # continue\n",
    "            tile_list = list(cohort_slides[random.randint(0,len(cohort_slides))].iterdir())\n",
    "        random_idx = random.sample(range(0, len(tile_list)), 5)\n",
    "        for j, tile_path in enumerate([tile_list[i] for i in random_idx]):\n",
    "            # print(tile_path)\n",
    "            img = np.asarray(Image.open(tile_path)).astype(np.uint8)\n",
    "            img = img.astype(np.uint8)\n",
    "            img = val_transforms(img.copy())\n",
    "            img = ((img-img.min())/(img.max()-img.min()))*255\n",
    "            img_np = img.numpy().astype(np.uint8).transpose(1,2,0)\n",
    "            img = Image.fromarray(img_np)\n",
    "            img = img.convert('RGB')\n",
    "            # print((i+1)*rows+j)\n",
    "            # fig.add_subplot(rows, columns, (i*2)*rows+(j+1))\n",
    "            # # fig.add_subplot(rows, columns, (i+1)*rows+(j+1))\n",
    "            # plt.imshow(img)\n",
    "\n",
    "            color = ('b','g','r')\n",
    "            fig.add_subplot(rows, columns, (i*2)*rows+(j+1))\n",
    "            for i,col in enumerate(color):\n",
    "                histr = cv2.calcHist([img_np],[i],None,[256],[0,256])\n",
    "                plt.plot(histr,color = col)\n",
    "                plt.xlim([0,256])\n",
    "            plt.show\n",
    "            # plt.imshow(img)\n",
    "\n",
    "        \n",
    "    plt.show\n"
   ]
  },
  {
   "cell_type": "code",
   "execution_count": null,
   "metadata": {},
   "outputs": [],
   "source": [
    "json_path = f'/{home}/ylan/training_tables/dg_split_PAS_HE_Jones_norm_rest.json'\n",
    "with open(json_path, 'r') as jf:\n",
    "    split_dict = json.read(jf)\n",
    "\n",
    "print(split_dict)\n",
    "\n",
    "slides = ['DEEPGRAFT_RA/RA0002_PASD_jkers_PASD_20180829_142406', 'DEEPGRAFT_RU/RU0001_PASD_jke_PASD_20200129_122805_BIG', 'Aachen_Biopsy_Slides/Aachen_KiBiDatabase_KiBiAcALSZ690_01_004_PAS']\n",
    "\n",
    "# normalize(slides)"
   ]
  }
 ],
 "metadata": {
  "kernelspec": {
   "display_name": "Python 3.8.8 ('torch')",
   "language": "python",
   "name": "python3"
  },
  "language_info": {
   "codemirror_mode": {
    "name": "ipython",
    "version": 3
   },
   "file_extension": ".py",
   "mimetype": "text/x-python",
   "name": "python",
   "nbconvert_exporter": "python",
   "pygments_lexer": "ipython3",
   "version": "3.9.13"
  },
  "orig_nbformat": 4,
  "vscode": {
   "interpreter": {
    "hash": "7b7fb95db5714bbf59d6a04f6057e8fa5746fef9d16f5c42f2fdbc713170171a"
   }
  }
 },
 "nbformat": 4,
 "nbformat_minor": 2
}
