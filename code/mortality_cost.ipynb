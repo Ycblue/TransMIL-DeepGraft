{
 "cells": [
  {
   "cell_type": "code",
   "execution_count": 2,
   "metadata": {},
   "outputs": [],
   "source": [
    "import pandas as pd"
   ]
  },
  {
   "cell_type": "code",
   "execution_count": 3,
   "metadata": {},
   "outputs": [],
   "source": [
    "world_csv_path = '/homeStor1/ylan/npj_sus_data/co2_data/carbon-intensity-electricity.csv'\n",
    "world_csv = pd.read_csv(world_csv_path)"
   ]
  },
  {
   "cell_type": "code",
   "execution_count": 16,
   "metadata": {},
   "outputs": [],
   "source": [
    "year = 2019\n",
    "regions = ['AUT', 'BEL', 'BGR', 'HRV', 'CYP', 'CZE', 'DNK', 'EST', 'FIN', 'FRA', 'DEU', 'GRC', 'HUN', 'IRL', 'ITA', 'LVA', 'LTU', 'LUX', 'MLT', 'NLD', 'POL', 'PRT', 'ROU', 'SVK', 'SVN', 'ESP', 'SWE', 'GBR']\n",
    "region_data = {}\n",
    "for r in regions: #gCO2/kWh\n",
    "    ci = world_csv.loc[(world_csv['Code']==r) & (world_csv['Year']==year)]['Carbon intensity of electricity - gCO2/kWh'].values[0] #[world_csv['Year']==str(year)].values\n",
    "    # print(ci)\n",
    "    region_data[r] = {'CI':ci}"
   ]
  },
  {
   "cell_type": "code",
   "execution_count": 17,
   "metadata": {},
   "outputs": [
    {
     "data": {
      "text/plain": [
       "{'AUT': {'CI': 160.45724},\n",
       " 'BEL': {'CI': 186.24052},\n",
       " 'BGR': {'CI': 369.86307},\n",
       " 'HRV': {'CI': 238.54662},\n",
       " 'CYP': {'CI': 633.0097},\n",
       " 'CZE': {'CI': 428.5881},\n",
       " 'DNK': {'CI': 205.35411},\n",
       " 'EST': {'CI': 544.021},\n",
       " 'FIN': {'CI': 179.73093},\n",
       " 'FRA': {'CI': 68.532135},\n",
       " 'DEU': {'CI': 361.37796},\n",
       " 'GRC': {'CI': 445.2449},\n",
       " 'HUN': {'CI': 254.1679},\n",
       " 'IRL': {'CI': 335.28647},\n",
       " 'ITA': {'CI': 352.05078},\n",
       " 'LVA': {'CI': 287.2671},\n",
       " 'LTU': {'CI': 162.42038},\n",
       " 'LUX': {'CI': 205.60745},\n",
       " 'MLT': {'CI': 449.2754},\n",
       " 'NLD': {'CI': 454.7562},\n",
       " 'POL': {'CI': 670.9397},\n",
       " 'PRT': {'CI': 294.99326},\n",
       " 'ROU': {'CI': 284.5556},\n",
       " 'SVK': {'CI': 167.43524},\n",
       " 'SVN': {'CI': 263.68787},\n",
       " 'ESP': {'CI': 243.49365},\n",
       " 'SWE': {'CI': 47.025295},\n",
       " 'GBR': {'CI': 270.15344}}"
      ]
     },
     "execution_count": 17,
     "metadata": {},
     "output_type": "execute_result"
    }
   ],
   "source": [
    "region_data"
   ]
  },
  {
   "cell_type": "code",
   "execution_count": null,
   "metadata": {},
   "outputs": [],
   "source": [
    "model = 'transmil'\n",
    "model_data = '/homeStor1/ylan/npj_sus_data/co2_data/carbon-intensity-electricity.csv'"
   ]
  }
 ],
 "metadata": {
  "kernelspec": {
   "display_name": "pytorch",
   "language": "python",
   "name": "python3"
  },
  "language_info": {
   "codemirror_mode": {
    "name": "ipython",
    "version": 3
   },
   "file_extension": ".py",
   "mimetype": "text/x-python",
   "name": "python",
   "nbconvert_exporter": "python",
   "pygments_lexer": "ipython3",
   "version": "3.9.18"
  }
 },
 "nbformat": 4,
 "nbformat_minor": 2
}
