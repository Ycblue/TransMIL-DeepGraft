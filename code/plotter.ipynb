{
 "cells": [
  {
   "cell_type": "markdown",
   "metadata": {},
   "source": []
  },
  {
   "cell_type": "code",
   "execution_count": 3,
   "metadata": {},
   "outputs": [],
   "source": [
    "from visualize_mil import Visualize\n",
    "import torch.nn as nn\n",
    "from pathlib import Path\n",
    "\n",
    "home = Path.cwd().parts[1]"
   ]
  },
  {
   "cell_type": "code",
   "execution_count": 9,
   "metadata": {},
   "outputs": [
    {
     "name": "stdout",
     "output_type": "stream",
     "text": [
      "['/homeStor1/ylan/workspace/TransMIL-DeepGraft/logs/DeepGraft/TransMIL/norm_rest/_features_CrossEntropyLoss/lightning_logs/version_760/checkpoints/epoch=10-val_loss=0.5929-val_auc=0.8765-val_patient_auc= 0.8953.ckpt']\n"
     ]
    }
   ],
   "source": [
    "model_name = 'TransMIL'\n",
    "task = 'norm_rest'\n",
    "version = 760\n",
    "epoch = 10\n",
    "log_dir = Path(f'/{home}/ylan/workspace/TransMIL-DeepGraft/logs/')\n",
    "ckpt_path = log_dir / 'DeepGraft' / model_name / task / '_features_CrossEntropyLoss/lightning_logs' / f'version_{version}' / 'checkpoints'\n",
    "\n",
    "# print(ckpt_path)\n",
    "model_paths = list(ckpt_path.glob('*.ckpt'))\n",
    "if epoch == 'last':\n",
    "        model_paths = [str(model_path) for model_path in model_paths if f'last' in str(model_path)]\n",
    "else:\n",
    "    model_paths = [str(model_path) for model_path in model_paths if f'epoch={epoch}' in str(model_path)]\n",
    "\n",
    "print(model_paths)\n",
    "\n"
   ]
  },
  {
   "cell_type": "code",
   "execution_count": null,
   "metadata": {},
   "outputs": [],
   "source": []
  }
 ],
 "metadata": {
  "kernelspec": {
   "display_name": "torch",
   "language": "python",
   "name": "python3"
  },
  "language_info": {
   "codemirror_mode": {
    "name": "ipython",
    "version": 3
   },
   "file_extension": ".py",
   "mimetype": "text/x-python",
   "name": "python",
   "nbconvert_exporter": "python",
   "pygments_lexer": "ipython3",
   "version": "3.9.18"
  },
  "orig_nbformat": 4,
  "vscode": {
   "interpreter": {
    "hash": "7b7fb95db5714bbf59d6a04f6057e8fa5746fef9d16f5c42f2fdbc713170171a"
   }
  }
 },
 "nbformat": 4,
 "nbformat_minor": 2
}
